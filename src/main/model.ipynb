{
 "nbformat": 4,
 "nbformat_minor": 2,
 "metadata": {
  "language_info": {
   "name": "python",
   "codemirror_mode": {
    "name": "ipython",
    "version": 3
   },
   "version": "3.7.3-final"
  },
  "orig_nbformat": 2,
  "file_extension": ".py",
  "mimetype": "text/x-python",
  "name": "python",
  "npconvert_exporter": "python",
  "pygments_lexer": "ipython3",
  "version": 3,
  "kernelspec": {
   "name": "python37364bitsiamesepipenv1dca38cefd8c4466a3050ec6b215d90c",
   "display_name": "Python 3.7.3 64-bit ('Siamese': pipenv)"
  }
 },
 "cells": [
  {
   "cell_type": "code",
   "execution_count": 91,
   "metadata": {},
   "outputs": [],
   "source": [
    "import tensorflow as tf\n",
    "import numpy as np\n",
    "import pandas as pd\n",
    "import matplotlib.pyplot as plt\n",
    "import matplotlib.image as img\n",
    "import glob\n",
    "from PIL import Image,ImageOps"
   ]
  },
  {
   "cell_type": "code",
   "execution_count": 92,
   "metadata": {},
   "outputs": [],
   "source": [
    "def showImage(img):\n",
    "    plt.grid(False)\n",
    "    plt.gray()\n",
    "    plt.axis('off')\n",
    "    plt.imshow(img)\n",
    "    plt.show() "
   ]
  },
  {
   "cell_type": "code",
   "execution_count": 93,
   "metadata": {},
   "outputs": [],
   "source": [
    "forged  = [Image.open(im) for im in glob.glob(\"../../dataset-small/forged/*.png\")]\n",
    "genuine = [Image.open(im) for im in glob.glob(\"../../dataset-small/genuine/*.png\")]"
   ]
  },
  {
   "cell_type": "code",
   "execution_count": 94,
   "metadata": {},
   "outputs": [],
   "source": [
    "for i in genuine: \n",
    "    size = (1500,750)\n",
    "    i = ImageOps.fit(i, size, Image.BILINEAR) \n",
    "    i =  np.array(i)\n",
    "    i = np.invert(i)\n",
    "    # showImage(i)"
   ]
  }
 ]
}