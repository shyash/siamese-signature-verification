{
 "nbformat": 4,
 "nbformat_minor": 2,
 "metadata": {
  "language_info": {
   "name": "python",
   "codemirror_mode": {
    "name": "ipython",
    "version": 3
   },
   "version": "3.7.3-final"
  },
  "orig_nbformat": 2,
  "file_extension": ".py",
  "mimetype": "text/x-python",
  "name": "python",
  "npconvert_exporter": "python",
  "pygments_lexer": "ipython3",
  "version": 3,
  "kernelspec": {
   "name": "python37364bitsiamesepipenv1dca38cefd8c4466a3050ec6b215d90c",
   "display_name": "Python 3.7.3 64-bit ('Siamese': pipenv)"
  }
 },
 "cells": [
  {
   "cell_type": "code",
   "execution_count": null,
   "metadata": {},
   "outputs": [],
   "source": [
    "import tensorflow as tf\n",
    "import numpy as np\n",
    "import pandas as pd\n",
    "import matplotlib.pyplot as plt\n",
    "import matplotlib.image as img\n",
    "import glob\n",
    "from Model import model \n",
    "from PIL import Image,ImageOps"
   ]
  },
  {
   "cell_type": "code",
   "execution_count": null,
   "metadata": {},
   "outputs": [],
   "source": [
    "def showImage(img):\n",
    "    plt.grid(False)\n",
    "    plt.gray()\n",
    "    plt.axis('off')\n",
    "    plt.imshow(img)\n",
    "    plt.show() "
   ]
  },
  {
   "cell_type": "code",
   "execution_count": null,
   "metadata": {},
   "outputs": [],
   "source": [
    "forged  = [Image.open(im) for im in glob.glob(\"../../dataset-small/forged/*.png\")]\n",
    "genuine = [Image.open(im) for im in glob.glob(\"../../dataset-small/genuine/*.png\")]"
   ]
  },
  {
   "cell_type": "code",
   "execution_count": null,
   "metadata": {},
   "outputs": [],
   "source": [
    "for i in range(len(genuine)): \n",
    "    size = (1500,750)\n",
    "    genuine[i] = ImageOps.fit(genuine[i], size, Image.BILINEAR) \n",
    "    genuine[i] = np.array(genuine[i])\n",
    "    genuine[i] = np.invert(genuine[i])\n",
    "    showImage(genuine[i])\n",
    "    forged[i] = ImageOps.fit(forged[i], size, Image.BILINEAR) \n",
    "    forged[i] = np.array(forged[i])\n",
    "    forged[i] = np.invert(forged[i]) \n",
    "    # showImage(forged[i])"
   ]
  },
  {
   "cell_type": "code",
   "execution_count": null,
   "metadata": {},
   "outputs": [],
   "source": [
    "model.compile(optimizer='adam', loss='sparse_categorical_crossentropy', metrics=['accuracy'])"
   ]
  },
  {
   "cell_type": "code",
   "execution_count": null,
   "metadata": {},
   "outputs": [],
   "source": [
    "model.fit(genuine[0].reshape(1,1500,750,1),[0.9],epochs=1)"
   ]
  },
  {
   "cell_type": "code",
   "execution_count": 34,
   "metadata": {},
   "outputs": [],
   "source": [
    "x1 = np.array(forged[3])\n",
    "x2 = np.array(genuine[4])\n",
    "x1 = x1.reshape(1,1500,750,1) \n",
    "x2 = x2.reshape(1,1500,750,1) \n",
    "y1 = model.predict(x1)\n",
    "y2 = model.predict(x2)\n",
    "# print(y1)\n",
    "# print(y2)\n",
    "mse = (np.square(y1-y2)).mean(axis=None)\n",
    "print(\"Both Signatures are Genuine\") if mse < 250 else  print(\"No there is a forged signature\") "
   ]
  }
 ]
}