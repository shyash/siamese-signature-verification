{
 "nbformat": 4,
 "nbformat_minor": 2,
 "metadata": {
  "language_info": {
   "name": "python",
   "codemirror_mode": {
    "name": "ipython",
    "version": 3
   },
   "version": "3.7.3-final"
  },
  "orig_nbformat": 2,
  "file_extension": ".py",
  "mimetype": "text/x-python",
  "name": "python",
  "npconvert_exporter": "python",
  "pygments_lexer": "ipython3",
  "version": 3,
  "kernelspec": {
   "name": "python37364bitsiamesepipenv1dca38cefd8c4466a3050ec6b215d90c",
   "display_name": "Python 3.7.3 64-bit ('Siamese': pipenv)"
  }
 },
 "cells": [
  {
   "cell_type": "code",
   "execution_count": null,
   "metadata": {},
   "outputs": [],
   "source": [
    "import tensorflow as tf\n",
    "import numpy as np\n",
    "import pandas as pd\n",
    "import matplotlib.pyplot as plt\n",
    "import matplotlib.image as img\n",
    "import glob\n",
    "from Model import model \n",
    "from PIL import Image,ImageOps"
   ]
  },
  {
   "cell_type": "code",
   "execution_count": null,
   "metadata": {},
   "outputs": [],
   "source": [
    "def showImage(img):\n",
    "    plt.grid(False)\n",
    "    plt.gray()\n",
    "    plt.axis('off')\n",
    "    plt.imshow(img)\n",
    "    plt.show() "
   ]
  },
  {
   "cell_type": "code",
   "execution_count": null,
   "metadata": {},
   "outputs": [],
   "source": [
    "forged  = [Image.open(im) for im in glob.glob(\"../../dataset-small/forged/*.png\")]\n",
    "genuine = [Image.open(im) for im in glob.glob(\"../../dataset-small/genuine/*.png\")]"
   ]
  },
  {
   "cell_type": "code",
   "execution_count": null,
   "metadata": {},
   "outputs": [],
   "source": [
    "for i in range(len(genuine)): \n",
    "    size = (1500,750)\n",
    "    genuine[i] = ImageOps.fit(genuine[i], size, Image.BILINEAR) \n",
    "    genuine[i] = np.array(genuine[i])\n",
    "    genuine[i] = np.invert(genuine[i])\n",
    "    # showImage(genuine[i])"
   ]
  },
  {
   "cell_type": "code",
   "execution_count": null,
   "metadata": {},
   "outputs": [],
   "source": [
    "model.compile(optimizer='adam', loss='sparse_categorical_crossentropy', metrics=['accuracy'])"
   ]
  },
  {
   "cell_type": "code",
   "execution_count": null,
   "metadata": {},
   "outputs": [],
   "source": [
    "genuine = np.array(genuine)\n",
    "\n",
    "# genuine = [item/255.0 for item in genuine]\n",
    "genuine_train = genuine.reshape(5,1500,750,1) \n",
    "labels = np.asarray([0.99,0.99,0.99,0.99,0.99])\n",
    "# validation_y = np.asarray(validation_y)\n",
    "model.fit(genuine_train,labels,epochs=1)\n",
    "\n",
    "test_loss,test_accuracy = model.evaluate(genuine_train,labels)\n",
    "print(f\"Test Loss : {test_loss}, Test Accuracy : {test_accuracy*100:.2f}%\")\n"
   ]
  }
 ]
}